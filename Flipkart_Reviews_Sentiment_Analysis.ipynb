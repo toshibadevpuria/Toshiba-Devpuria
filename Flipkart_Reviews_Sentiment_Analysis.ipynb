{
 "cells": [
  {
   "cell_type": "raw",
   "id": "263eb980-a3b1-42a5-9e12-6168408c1748",
   "metadata": {},
   "source": [
    "Flipkart Reviews Sentiment Analysis using Python\n",
    "\n",
    "Task 1: Importing the data\n",
    " These initial steps are the guiding light in the uncharted terrain, offering a glimpse into the dataset's structure and content. They're essential because they provide the foundation for understanding the customer sentiments, trends, and preferences that lie hidden within, setting the stage for informed decision-making and valuable insights."
   ]
  },
  {
   "cell_type": "code",
   "execution_count": 4,
   "id": "5faaeaee-140f-4516-b540-c542671bcb37",
   "metadata": {},
   "outputs": [
    {
     "data": {
      "text/html": [
       "<div>\n",
       "<style scoped>\n",
       "    .dataframe tbody tr th:only-of-type {\n",
       "        vertical-align: middle;\n",
       "    }\n",
       "\n",
       "    .dataframe tbody tr th {\n",
       "        vertical-align: top;\n",
       "    }\n",
       "\n",
       "    .dataframe thead th {\n",
       "        text-align: right;\n",
       "    }\n",
       "</style>\n",
       "<table border=\"1\" class=\"dataframe\">\n",
       "  <thead>\n",
       "    <tr style=\"text-align: right;\">\n",
       "      <th></th>\n",
       "      <th>Product_name</th>\n",
       "      <th>Review</th>\n",
       "      <th>Rating</th>\n",
       "    </tr>\n",
       "  </thead>\n",
       "  <tbody>\n",
       "    <tr>\n",
       "      <th>0</th>\n",
       "      <td>Lenovo Ideapad Gaming 3 Ryzen 5 Hexa Core 5600...</td>\n",
       "      <td>Best under 60k Great performanceI got it for a...</td>\n",
       "      <td>5.0</td>\n",
       "    </tr>\n",
       "    <tr>\n",
       "      <th>1</th>\n",
       "      <td>Lenovo Ideapad Gaming 3 Ryzen 5 Hexa Core 5600...</td>\n",
       "      <td>Good perfomence...</td>\n",
       "      <td>5.0</td>\n",
       "    </tr>\n",
       "    <tr>\n",
       "      <th>2</th>\n",
       "      <td>Lenovo Ideapad Gaming 3 Ryzen 5 Hexa Core 5600...</td>\n",
       "      <td>Great performance but usually it has also that...</td>\n",
       "      <td>5.0</td>\n",
       "    </tr>\n",
       "    <tr>\n",
       "      <th>3</th>\n",
       "      <td>DELL Inspiron Athlon Dual Core 3050U - (4 GB/2...</td>\n",
       "      <td>My wife is so happy and best product 👌🏻😘</td>\n",
       "      <td>5.0</td>\n",
       "    </tr>\n",
       "    <tr>\n",
       "      <th>4</th>\n",
       "      <td>DELL Inspiron Athlon Dual Core 3050U - (4 GB/2...</td>\n",
       "      <td>Light weight laptop with new amazing features,...</td>\n",
       "      <td>5.0</td>\n",
       "    </tr>\n",
       "    <tr>\n",
       "      <th>...</th>\n",
       "      <td>...</td>\n",
       "      <td>...</td>\n",
       "      <td>...</td>\n",
       "    </tr>\n",
       "    <tr>\n",
       "      <th>2299</th>\n",
       "      <td>MSI 27 inch Full HD IPS Panel Monitor (PRO MP2...</td>\n",
       "      <td>Great display, accurate colours at this price ...</td>\n",
       "      <td>5.0</td>\n",
       "    </tr>\n",
       "    <tr>\n",
       "      <th>2300</th>\n",
       "      <td>MSI 27 inch Full HD IPS Panel Monitor (PRO MP2...</td>\n",
       "      <td>Superb monitor first brought 1 used for 2 mont...</td>\n",
       "      <td>5.0</td>\n",
       "    </tr>\n",
       "    <tr>\n",
       "      <th>2301</th>\n",
       "      <td>MSI 27 inch Full HD IPS Panel Monitor (PRO MP2...</td>\n",
       "      <td>Awesome</td>\n",
       "      <td>5.0</td>\n",
       "    </tr>\n",
       "    <tr>\n",
       "      <th>2302</th>\n",
       "      <td>MSI 27 inch Full HD IPS Panel Monitor (PRO MP2...</td>\n",
       "      <td>Only one issue with adapter</td>\n",
       "      <td>5.0</td>\n",
       "    </tr>\n",
       "    <tr>\n",
       "      <th>2303</th>\n",
       "      <td>MSI 27 inch Full HD IPS Panel Monitor (PRO MP2...</td>\n",
       "      <td>Worth the money u spend for this monitor Great...</td>\n",
       "      <td>NaN</td>\n",
       "    </tr>\n",
       "  </tbody>\n",
       "</table>\n",
       "<p>2304 rows × 3 columns</p>\n",
       "</div>"
      ],
      "text/plain": [
       "                                           Product_name  \\\n",
       "0     Lenovo Ideapad Gaming 3 Ryzen 5 Hexa Core 5600...   \n",
       "1     Lenovo Ideapad Gaming 3 Ryzen 5 Hexa Core 5600...   \n",
       "2     Lenovo Ideapad Gaming 3 Ryzen 5 Hexa Core 5600...   \n",
       "3     DELL Inspiron Athlon Dual Core 3050U - (4 GB/2...   \n",
       "4     DELL Inspiron Athlon Dual Core 3050U - (4 GB/2...   \n",
       "...                                                 ...   \n",
       "2299  MSI 27 inch Full HD IPS Panel Monitor (PRO MP2...   \n",
       "2300  MSI 27 inch Full HD IPS Panel Monitor (PRO MP2...   \n",
       "2301  MSI 27 inch Full HD IPS Panel Monitor (PRO MP2...   \n",
       "2302  MSI 27 inch Full HD IPS Panel Monitor (PRO MP2...   \n",
       "2303  MSI 27 inch Full HD IPS Panel Monitor (PRO MP2...   \n",
       "\n",
       "                                                 Review  Rating  \n",
       "0     Best under 60k Great performanceI got it for a...     5.0  \n",
       "1                                    Good perfomence...     5.0  \n",
       "2     Great performance but usually it has also that...     5.0  \n",
       "3              My wife is so happy and best product 👌🏻😘     5.0  \n",
       "4     Light weight laptop with new amazing features,...     5.0  \n",
       "...                                                 ...     ...  \n",
       "2299  Great display, accurate colours at this price ...     5.0  \n",
       "2300  Superb monitor first brought 1 used for 2 mont...     5.0  \n",
       "2301                                            Awesome     5.0  \n",
       "2302                        Only one issue with adapter     5.0  \n",
       "2303  Worth the money u spend for this monitor Great...     NaN  \n",
       "\n",
       "[2304 rows x 3 columns]"
      ]
     },
     "execution_count": 4,
     "metadata": {},
     "output_type": "execute_result"
    }
   ],
   "source": [
    "#--- Import Pandas ---\n",
    "import pandas as pd\n",
    "\n",
    "#--- Read in dataset ----\n",
    "file_path=r\"C:\\Users\\003UWG744\\Downloads\\flipkart_reviews.csv\"\n",
    "df = pd.read_csv(file_path)\n",
    "df\n"
   ]
  },
  {
   "cell_type": "raw",
   "id": "6443683c-4da4-49cb-ba72-34f929569924",
   "metadata": {},
   "source": [
    "Task 2: Cleaning Up with dropna()\n",
    " invoking the dropna() method on a DataFrame is akin to wielding a precision tool to sculpt a valuable dataset.This process is pivotal because it ensures that you're left with a clean and complete dataset, ready to reveal its true insights without the noise of missing information, making it the foundation for robust analysis and meaningful discoveries."
   ]
  },
  {
   "cell_type": "code",
   "execution_count": 8,
   "id": "cf8f5e96-30a7-4258-ba64-b35a48ca010f",
   "metadata": {},
   "outputs": [
    {
     "data": {
      "text/html": [
       "<div>\n",
       "<style scoped>\n",
       "    .dataframe tbody tr th:only-of-type {\n",
       "        vertical-align: middle;\n",
       "    }\n",
       "\n",
       "    .dataframe tbody tr th {\n",
       "        vertical-align: top;\n",
       "    }\n",
       "\n",
       "    .dataframe thead th {\n",
       "        text-align: right;\n",
       "    }\n",
       "</style>\n",
       "<table border=\"1\" class=\"dataframe\">\n",
       "  <thead>\n",
       "    <tr style=\"text-align: right;\">\n",
       "      <th></th>\n",
       "      <th>Product_name</th>\n",
       "      <th>Review</th>\n",
       "      <th>Rating</th>\n",
       "    </tr>\n",
       "  </thead>\n",
       "  <tbody>\n",
       "    <tr>\n",
       "      <th>0</th>\n",
       "      <td>Lenovo Ideapad Gaming 3 Ryzen 5 Hexa Core 5600...</td>\n",
       "      <td>Best under 60k Great performanceI got it for a...</td>\n",
       "      <td>5.0</td>\n",
       "    </tr>\n",
       "    <tr>\n",
       "      <th>1</th>\n",
       "      <td>Lenovo Ideapad Gaming 3 Ryzen 5 Hexa Core 5600...</td>\n",
       "      <td>Good perfomence...</td>\n",
       "      <td>5.0</td>\n",
       "    </tr>\n",
       "    <tr>\n",
       "      <th>2</th>\n",
       "      <td>Lenovo Ideapad Gaming 3 Ryzen 5 Hexa Core 5600...</td>\n",
       "      <td>Great performance but usually it has also that...</td>\n",
       "      <td>5.0</td>\n",
       "    </tr>\n",
       "    <tr>\n",
       "      <th>3</th>\n",
       "      <td>DELL Inspiron Athlon Dual Core 3050U - (4 GB/2...</td>\n",
       "      <td>My wife is so happy and best product 👌🏻😘</td>\n",
       "      <td>5.0</td>\n",
       "    </tr>\n",
       "    <tr>\n",
       "      <th>4</th>\n",
       "      <td>DELL Inspiron Athlon Dual Core 3050U - (4 GB/2...</td>\n",
       "      <td>Light weight laptop with new amazing features,...</td>\n",
       "      <td>5.0</td>\n",
       "    </tr>\n",
       "    <tr>\n",
       "      <th>...</th>\n",
       "      <td>...</td>\n",
       "      <td>...</td>\n",
       "      <td>...</td>\n",
       "    </tr>\n",
       "    <tr>\n",
       "      <th>2298</th>\n",
       "      <td>MSI 27 inch Full HD IPS Panel Monitor (PRO MP2...</td>\n",
       "      <td>Cool and best in below 9000 prize range ,go fo...</td>\n",
       "      <td>5.0</td>\n",
       "    </tr>\n",
       "    <tr>\n",
       "      <th>2299</th>\n",
       "      <td>MSI 27 inch Full HD IPS Panel Monitor (PRO MP2...</td>\n",
       "      <td>Great display, accurate colours at this price ...</td>\n",
       "      <td>5.0</td>\n",
       "    </tr>\n",
       "    <tr>\n",
       "      <th>2300</th>\n",
       "      <td>MSI 27 inch Full HD IPS Panel Monitor (PRO MP2...</td>\n",
       "      <td>Superb monitor first brought 1 used for 2 mont...</td>\n",
       "      <td>5.0</td>\n",
       "    </tr>\n",
       "    <tr>\n",
       "      <th>2301</th>\n",
       "      <td>MSI 27 inch Full HD IPS Panel Monitor (PRO MP2...</td>\n",
       "      <td>Awesome</td>\n",
       "      <td>5.0</td>\n",
       "    </tr>\n",
       "    <tr>\n",
       "      <th>2302</th>\n",
       "      <td>MSI 27 inch Full HD IPS Panel Monitor (PRO MP2...</td>\n",
       "      <td>Only one issue with adapter</td>\n",
       "      <td>5.0</td>\n",
       "    </tr>\n",
       "  </tbody>\n",
       "</table>\n",
       "<p>2303 rows × 3 columns</p>\n",
       "</div>"
      ],
      "text/plain": [
       "                                           Product_name  \\\n",
       "0     Lenovo Ideapad Gaming 3 Ryzen 5 Hexa Core 5600...   \n",
       "1     Lenovo Ideapad Gaming 3 Ryzen 5 Hexa Core 5600...   \n",
       "2     Lenovo Ideapad Gaming 3 Ryzen 5 Hexa Core 5600...   \n",
       "3     DELL Inspiron Athlon Dual Core 3050U - (4 GB/2...   \n",
       "4     DELL Inspiron Athlon Dual Core 3050U - (4 GB/2...   \n",
       "...                                                 ...   \n",
       "2298  MSI 27 inch Full HD IPS Panel Monitor (PRO MP2...   \n",
       "2299  MSI 27 inch Full HD IPS Panel Monitor (PRO MP2...   \n",
       "2300  MSI 27 inch Full HD IPS Panel Monitor (PRO MP2...   \n",
       "2301  MSI 27 inch Full HD IPS Panel Monitor (PRO MP2...   \n",
       "2302  MSI 27 inch Full HD IPS Panel Monitor (PRO MP2...   \n",
       "\n",
       "                                                 Review  Rating  \n",
       "0     Best under 60k Great performanceI got it for a...     5.0  \n",
       "1                                    Good perfomence...     5.0  \n",
       "2     Great performance but usually it has also that...     5.0  \n",
       "3              My wife is so happy and best product 👌🏻😘     5.0  \n",
       "4     Light weight laptop with new amazing features,...     5.0  \n",
       "...                                                 ...     ...  \n",
       "2298  Cool and best in below 9000 prize range ,go fo...     5.0  \n",
       "2299  Great display, accurate colours at this price ...     5.0  \n",
       "2300  Superb monitor first brought 1 used for 2 mont...     5.0  \n",
       "2301                                            Awesome     5.0  \n",
       "2302                        Only one issue with adapter     5.0  \n",
       "\n",
       "[2303 rows x 3 columns]"
      ]
     },
     "execution_count": 8,
     "metadata": {},
     "output_type": "execute_result"
    }
   ],
   "source": [
    "cleaned_data=df.dropna()\n",
    "cleaned_data"
   ]
  },
  {
   "cell_type": "raw",
   "id": "d0a59499-5575-486e-b42a-85639460710b",
   "metadata": {},
   "source": [
    "Task 3: Transforming Flipkart Reviews into Pie\n",
    "In the world of data analysis, using Matplotlib to create a pie chart is like crafting a visual story. \n",
    "In this task, using Matplotlib to show how flipkart product ratings are distributed. Each slice of the pie represents a different rating, and the chart helps us see which ratings are more common\n",
    "Well, its like a map that guides us to understand customer preferences. By visualizing the distribution of ratings, we can quickly grasp how people feel about Flipkart products. This is crucial for businesses to make informed decisions,\n",
    "improve products, and cater to customer needs effectively. So, this task is all about painting a clear picture of customer sentiment, which is essential for success in the world of e-commerce."
   ]
  },
  {
   "cell_type": "code",
   "execution_count": 21,
   "id": "08c8e624-2bb6-4032-8f00-2a4fc6356782",
   "metadata": {},
   "outputs": [
    {
     "data": {
      "image/png": "[encoded data removed]",
      "text/plain": [
       "<Figure size 1000x800 with 1 Axes>"
      ]
     },
     "metadata": {},
     "output_type": "display_data"
    },
    {
     "data": {
      "text/plain": [
       "5.0    1381\n",
       "4.0     552\n",
       "1.0     184\n",
       "3.0     140\n",
       "2.0      46\n",
       "Name: Rating, dtype: int64"
      ]
     },
     "execution_count": 21,
     "metadata": {},
     "output_type": "execute_result"
    }
   ],
   "source": [
    "import matplotlib.pyplot as plt\n",
    "ratings=cleaned_data['Rating'].value_counts()\n",
    "numbers=ratings.index\n",
    "quantity=ratings.values\n",
    "plt.figure(figsize=(10,8))\n",
    "plt.pie(quantity,labels=ratings.index,autopct='%1.1f%%',startangle=140)\n",
    "plt.axis('equal')\n",
    "plt.title('Ratings Distribution')\n",
    "plt.show()\n",
    "ratings"
   ]
  },
  {
   "cell_type": "raw",
   "id": "98624b3c-5cb9-4a9a-a56c-ef9bf06fd9b9",
   "metadata": {},
   "source": [
    "Task 4: Unmasking Customer Emotions with NLTK\n",
    "using the Natural Language Toolkit (NLTK) to analyze sentiments is like having a language detective on your side. In this task, you're harnessing NLTK's Sentiment Intensity Analyzer to uncover the emotional tones within a collection of text reviews.\n",
    "\n",
    "Think of it as a way to decode the language of customers."
   ]
  },
  {
   "cell_type": "code",
   "execution_count": 23,
   "id": "8f26f955-a0e9-4568-8217-f3020f7e65e2",
   "metadata": {},
   "outputs": [
    {
     "name": "stderr",
     "output_type": "stream",
     "text": [
      "[nltk_data] Downloading package vader_lexicon to\n",
      "[nltk_data]     C:\\Users\\003UWG744\\AppData\\Roaming\\nltk_data...\n"
     ]
    },
    {
     "data": {
      "text/plain": [
       "True"
      ]
     },
     "execution_count": 23,
     "metadata": {},
     "output_type": "execute_result"
    }
   ],
   "source": [
    "import nltk\n",
    "nltk.download('vader_lexicon')"
   ]
  },
  {
   "cell_type": "code",
   "execution_count": 29,
   "id": "c408b79d-70d8-41c1-a83c-961fd9589770",
   "metadata": {},
   "outputs": [
    {
     "name": "stdout",
     "output_type": "stream",
     "text": [
      "                                                 Review  Positive  Negative  \\\n",
      "0     Best under 60k Great performanceI got it for a...     0.314     0.073   \n",
      "1                                    Good perfomence...     0.744     0.000   \n",
      "2     Great performance but usually it has also that...     0.119     0.000   \n",
      "3              My wife is so happy and best product 👌🏻😘     0.568     0.000   \n",
      "4     Light weight laptop with new amazing features,...     0.467     0.000   \n",
      "...                                                 ...       ...       ...   \n",
      "2298  Cool and best in below 9000 prize range ,go fo...     0.551     0.000   \n",
      "2299  Great display, accurate colours at this price ...     0.369     0.000   \n",
      "2300  Superb monitor first brought 1 used for 2 mont...     0.255     0.000   \n",
      "2301                                            Awesome     1.000     0.000   \n",
      "2302                        Only one issue with adapter     0.000     0.000   \n",
      "\n",
      "      Neutral  \n",
      "0       0.613  \n",
      "1       0.256  \n",
      "2       0.881  \n",
      "3       0.432  \n",
      "4       0.533  \n",
      "...       ...  \n",
      "2298    0.449  \n",
      "2299    0.631  \n",
      "2300    0.745  \n",
      "2301    0.000  \n",
      "2302    1.000  \n",
      "\n",
      "[2303 rows x 4 columns]\n"
     ]
    }
   ],
   "source": [
    "from nltk.sentiment.vader import SentimentIntensityAnalyzer\n",
    "data=pd.DataFrame(cleaned_data['Review'])\n",
    "sentiments=SentimentIntensityAnalyzer()\n",
    "data['Positive']=[sentiments.polarity_scores(review)['pos']for review in data['Review']]\n",
    "data['Negative']=[sentiments.polarity_scores(review)['neg']for review in data['Review']]\n",
    "data['Neutral']=[sentiments.polarity_scores(review)['neu']for review in data['Review']]\n",
    "print(data)\n"
   ]
  },
  {
   "cell_type": "raw",
   "id": "ae623374-108f-44d7-a553-2a665e9cd8eb",
   "metadata": {},
   "source": [
    "Task 5: Turning Customer Emotions into Numbers\n",
    "In this task, you're crunching the numbers, summing up positive, negative, and neutral scores derived from customer reviews.\n",
    "It's like tallying up the emotions expressed by customers. By finding the sum of these scores, you're quantifying the overall sentiment hidden within the reviews. This numerical representation provides a clear snapshot of the collective sentiment, allowing businesses to gauge customer satisfaction, detect trends, and make data-driven decisions."
   ]
  },
  {
   "cell_type": "code",
   "execution_count": 35,
   "id": "abb75ee2-f2cd-402e-b859-3dd423a7e567",
   "metadata": {},
   "outputs": [
    {
     "name": "stdout",
     "output_type": "stream",
     "text": [
      "835.34 \n",
      " 104.92 \n",
      " 1362.74\n"
     ]
    }
   ],
   "source": [
    "x=round(data['Positive'].sum(),2)\n",
    "y=round(data['Negative'].sum(),2)\n",
    "z=round(data['Neutral'].sum(),2)\n",
    "print(x,'\\n',y,'\\n',z)"
   ]
  }
 ],
 "metadata": {
  "kernelspec": {
   "display_name": "Python 3 (ipykernel)",
   "language": "python",
   "name": "python3"
  },
  "language_info": {
   "codemirror_mode": {
    "name": "ipython",
    "version": 3
   },
   "file_extension": ".py",
   "mimetype": "text/x-python",
   "name": "python",
   "nbconvert_exporter": "python",
   "pygments_lexer": "ipython3",
   "version": "3.11.4"
  }
 },
 "nbformat": 4,
 "nbformat_minor": 5
}
